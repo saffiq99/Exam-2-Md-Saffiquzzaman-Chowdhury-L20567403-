{
 "cells": [
  {
   "cell_type": "markdown",
   "id": "21c87493",
   "metadata": {},
   "source": [
    "<H1> MD SAFFIQUZZAMAN CHOWDHURY (L20567403)\n",
    "FINAL EXAM 2 ANSWERS </H1>"
   ]
  },
  {
   "cell_type": "code",
   "execution_count": 7,
   "id": "4b08c3a5",
   "metadata": {},
   "outputs": [],
   "source": [
    "import os\n",
    "import pandas as pd\n",
    "import numpy as np\n",
    "import numpy as np\n",
    "import pandas as pd\n",
    "import geopandas as pgd\n",
    "import seaborn as sns\n",
    "import matplotlib.pyplot as plt\n",
    "import matplotlib as mpl\n",
    "import os"
   ]
  },
  {
   "cell_type": "markdown",
   "id": "128e6a5e",
   "metadata": {},
   "source": [
    "<h2>Answer 2 Solve</h2>"
   ]
  },
  {
   "cell_type": "code",
   "execution_count": 8,
   "id": "6406407a",
   "metadata": {},
   "outputs": [
    {
     "data": {
      "text/html": [
       "<div>\n",
       "<style scoped>\n",
       "    .dataframe tbody tr th:only-of-type {\n",
       "        vertical-align: middle;\n",
       "    }\n",
       "\n",
       "    .dataframe tbody tr th {\n",
       "        vertical-align: top;\n",
       "    }\n",
       "\n",
       "    .dataframe thead th {\n",
       "        text-align: right;\n",
       "    }\n",
       "</style>\n",
       "<table border=\"1\" class=\"dataframe\">\n",
       "  <thead>\n",
       "    <tr style=\"text-align: right;\">\n",
       "      <th></th>\n",
       "      <th>Water Year</th>\n",
       "      <th>Date</th>\n",
       "      <th>Gage Height (feet)</th>\n",
       "      <th>Streamflow (cfs)</th>\n",
       "      <th>Unnamed: 4</th>\n",
       "    </tr>\n",
       "  </thead>\n",
       "  <tbody>\n",
       "    <tr>\n",
       "      <th>0</th>\n",
       "      <td>1958</td>\n",
       "      <td>9/21/1958</td>\n",
       "      <td>17.50</td>\n",
       "      <td>15,900</td>\n",
       "      <td>NaN</td>\n",
       "    </tr>\n",
       "    <tr>\n",
       "      <th>1</th>\n",
       "      <td>1959</td>\n",
       "      <td>4/18/1959</td>\n",
       "      <td>14.50</td>\n",
       "      <td>6,100</td>\n",
       "      <td>NaN</td>\n",
       "    </tr>\n",
       "    <tr>\n",
       "      <th>2</th>\n",
       "      <td>1960</td>\n",
       "      <td>2/24/1960</td>\n",
       "      <td>12.77</td>\n",
       "      <td>2,620</td>\n",
       "      <td>NaN</td>\n",
       "    </tr>\n",
       "    <tr>\n",
       "      <th>3</th>\n",
       "      <td>1961</td>\n",
       "      <td>3/17/1961</td>\n",
       "      <td>13.95</td>\n",
       "      <td>5,000</td>\n",
       "      <td>NaN</td>\n",
       "    </tr>\n",
       "    <tr>\n",
       "      <th>4</th>\n",
       "      <td>1962</td>\n",
       "      <td>12/10/1961</td>\n",
       "      <td>13.20</td>\n",
       "      <td>3,200</td>\n",
       "      <td>NaN</td>\n",
       "    </tr>\n",
       "    <tr>\n",
       "      <th>...</th>\n",
       "      <td>...</td>\n",
       "      <td>...</td>\n",
       "      <td>...</td>\n",
       "      <td>...</td>\n",
       "      <td>...</td>\n",
       "    </tr>\n",
       "    <tr>\n",
       "      <th>60</th>\n",
       "      <td>2018</td>\n",
       "      <td>3/29/2018</td>\n",
       "      <td>14.56</td>\n",
       "      <td>6,050</td>\n",
       "      <td>NaN</td>\n",
       "    </tr>\n",
       "    <tr>\n",
       "      <th>61</th>\n",
       "      <td>2019</td>\n",
       "      <td>12/8/2018</td>\n",
       "      <td>15.74</td>\n",
       "      <td>9,010</td>\n",
       "      <td>NaN</td>\n",
       "    </tr>\n",
       "    <tr>\n",
       "      <th>62</th>\n",
       "      <td>2020</td>\n",
       "      <td>4/20/2020</td>\n",
       "      <td>14.37</td>\n",
       "      <td>4,960</td>\n",
       "      <td>NaN</td>\n",
       "    </tr>\n",
       "    <tr>\n",
       "      <th>63</th>\n",
       "      <td>2021</td>\n",
       "      <td>5/10/2021</td>\n",
       "      <td>17.01</td>\n",
       "      <td>13,400</td>\n",
       "      <td>NaN</td>\n",
       "    </tr>\n",
       "    <tr>\n",
       "      <th>64</th>\n",
       "      <td>2022</td>\n",
       "      <td>3/23/2022</td>\n",
       "      <td>12.93</td>\n",
       "      <td>3,00</td>\n",
       "      <td>NaN</td>\n",
       "    </tr>\n",
       "  </tbody>\n",
       "</table>\n",
       "<p>65 rows × 5 columns</p>\n",
       "</div>"
      ],
      "text/plain": [
       "    Water Year        Date  Gage Height (feet) Streamflow (cfs)  Unnamed: 4\n",
       "0         1958   9/21/1958               17.50           15,900         NaN\n",
       "1         1959   4/18/1959               14.50            6,100         NaN\n",
       "2         1960   2/24/1960               12.77            2,620         NaN\n",
       "3         1961   3/17/1961               13.95            5,000         NaN\n",
       "4         1962  12/10/1961               13.20            3,200         NaN\n",
       "..         ...         ...                 ...              ...         ...\n",
       "60        2018   3/29/2018               14.56            6,050         NaN\n",
       "61        2019   12/8/2018               15.74            9,010         NaN\n",
       "62        2020   4/20/2020               14.37            4,960         NaN\n",
       "63        2021   5/10/2021               17.01           13,400         NaN\n",
       "64        2022   3/23/2022               12.93             3,00         NaN\n",
       "\n",
       "[65 rows x 5 columns]"
      ]
     },
     "execution_count": 8,
     "metadata": {},
     "output_type": "execute_result"
    }
   ],
   "source": [
    "Og = pd.read_csv('C:\\\\Users\\\\siamb\\\\Downloads\\\\Exam 2 problem 2 data (Md Saffiquzzaman Chowdhury).csv')\n",
    "Og"
   ]
  },
  {
   "cell_type": "markdown",
   "id": "5c1edce4",
   "metadata": {},
   "source": [
    "Link of the Data: https://nwis.waterdata.usgs.gov/nwis/peak?site_no=08039100&agency_cd=USGS&format=html"
   ]
  },
  {
   "cell_type": "code",
   "execution_count": null,
   "id": "687355e6",
   "metadata": {},
   "outputs": [],
   "source": [
    "def fd(x,r,n):\n",
    "    fdx = (r-0.44)/(n+0.12)\n",
    "    return(fdx)"
   ]
  },
  {
   "cell_type": "code",
   "execution_count": 10,
   "id": "a20e3d9c",
   "metadata": {},
   "outputs": [],
   "source": [
    "\n",
    "# Import libraries\n",
    "import math\n",
    "# Define function f(D)\n",
    "r=[15900.00,6100.00\n",
    ",2620.00\n",
    ",5000.00\n",
    ",3200.00\n",
    ",1220.00\n",
    ",4000.00\n",
    ",1380.00\n",
    ",5100.00\n",
    ",620.00\n",
    ",13200.00\n",
    ",5300.00\n",
    ",1580.00\n",
    ",225.00\n",
    ",860.00\n",
    ",5200.00\n",
    ",5100.00\n",
    ",4800.00\n",
    ",714.00\n",
    ",1690.00\n",
    ",18200.00\n",
    ",12700.00\n",
    ",4530.00\n",
    ",1420.00\n",
    ",3630.00\n",
    ",3650.00\n",
    ",7750.00\n",
    ",2760.00\n",
    ",2990.00\n",
    ",7560.00\n",
    ",2990.00\n",
    ",12400.00\n",
    ",4970.00\n",
    ",7460.00\n",
    ",2970.00\n",
    ",2320.00\n",
    ",4470.00\n",
    ",10400.00\n",
    ",1560.00\n",
    ",5140.00\n",
    ",6580.00\n",
    ",1980.00\n",
    ",2170.00\n",
    ",3380.00\n",
    ",5740.00\n",
    ",3400.00\n",
    ",3210.00\n",
    ",4630.00\n",
    ",3810.00\n",
    ",8260.00\n",
    ",42100.00\n",
    ",1800.00\n",
    ",4720.00\n",
    ",4354.00\n",
    ",5680.00\n",
    ",690.00\n",
    ",4890.00\n",
    ",4040.00\n",
    ",11100.00\n",
    ",157009.00\n",
    ",6050.00\n",
    ",9010.00\n",
    ",4960.00\n",
    ",13400.00\n",
    ",300]\n",
    "\n",
    "x=[1958,\n",
    "1959,\n",
    "1960,\n",
    "1961,\n",
    "1962,\n",
    "1963,\n",
    "1964,\n",
    "1965,\n",
    "1966,\n",
    "1967,\n",
    "1968,\n",
    "1969,\n",
    "1970,\n",
    "1971,\n",
    "1972,\n",
    "1973,\n",
    "1974,\n",
    "1975,\n",
    "1976,\n",
    "1977,\n",
    "1978,\n",
    "1979,\n",
    "1980,\n",
    "1981,\n",
    "1982,\n",
    "1983,\n",
    "1984,\n",
    "1985,\n",
    "1986,\n",
    "1987,\n",
    "1988,\n",
    "1989,\n",
    "1990,\n",
    "1991,\n",
    "1992,\n",
    "1993,\n",
    "1994,\n",
    "1995,\n",
    "1996,\n",
    "1997,\n",
    "1998,\n",
    "1999,\n",
    "2000,\n",
    "2001,\n",
    "2002,\n",
    "2003,\n",
    "2004,\n",
    "2005,\n",
    "2006,\n",
    "2007,\n",
    "2008,\n",
    "2009,\n",
    "2010,\n",
    "2011,\n",
    "2012,\n",
    "2013,\n",
    "2014,\n",
    "2015,\n",
    "2016,\n",
    "2017,\n",
    "2018,\n",
    "2019,\n",
    "2020,\n",
    "2021,\n",
    "2022\n",
    "]\n"
   ]
  },
  {
   "cell_type": "code",
   "execution_count": 11,
   "id": "388962bf",
   "metadata": {},
   "outputs": [
    {
     "name": "stderr",
     "output_type": "stream",
     "text": [
      "No artists with labels found to put in legend.  Note that artists whose label start with an underscore are ignored when legend() is called with no argument.\n"
     ]
    },
    {
     "data": {
      "image/png": "[encoded data removed]",
      "text/plain": [
       "<Figure size 640x480 with 1 Axes>"
      ]
     },
     "metadata": {},
     "output_type": "display_data"
    }
   ],
   "source": [
    "plt.plot(x,r, color='blue')\n",
    "\n",
    "\n",
    "plt.xlabel(\"Year\") #year data\n",
    "plt.ylabel(\"discharge\") \n",
    "plt.legend()\n",
    "plt.title('discharge vs Years')\n",
    "plt.show()"
   ]
  },
  {
   "cell_type": "code",
   "execution_count": 13,
   "id": "2bde837e",
   "metadata": {},
   "outputs": [],
   "source": [
    "from scipy import stats"
   ]
  },
  {
   "cell_type": "code",
   "execution_count": 68,
   "id": "69ef04ee",
   "metadata": {},
   "outputs": [
    {
     "data": {
      "image/png": "[encoded data removed]",
      "text/plain": [
       "<Figure size 400x400 with 1 Axes>"
      ]
     },
     "metadata": {},
     "output_type": "display_data"
    }
   ],
   "source": [
    "res = stats.cumfreq(r, numbins=4,\n",
    "                    defaultreallimits=(1.5, 5))\n",
    " # r is the discharge here\n",
    "# generating random values\n",
    "rng = np.random.RandomState(seed=45)\n",
    " \n",
    "# normalizing\n",
    "samples = stats.norm.rvs(size=1000,\n",
    "                         random_state=rng)\n",
    " \n",
    "res = stats.cumfreq(samples,\n",
    "                    numbins=15)\n",
    " \n",
    "x = res.lowerlimit + np.linspace(0, res.binsize*res.cumcount.size,\n",
    "                                 res.cumcount.size)\n",
    " \n",
    "fig = plt.figure(figsize=(4, 4))\n",
    " \n",
    "\n",
    "ax2 = fig.add_subplot(1, 2, 2)\n",
    " \n",
    "\n",
    "ax2.bar(x, x, width=2, color=\"red\")\n",
    " \n",
    "ax2.set_title('Cumulative histogram')\n",
    "ax2.set_xlim([x.min(), x.max()])\n",
    " \n",
    "plt.show()"
   ]
  },
  {
   "cell_type": "markdown",
   "id": "cce3c9d7",
   "metadata": {},
   "source": [
    "<h2>Answer 1 Solved</h1>"
   ]
  },
  {
   "cell_type": "code",
   "execution_count": 20,
   "id": "0b65700c",
   "metadata": {},
   "outputs": [],
   "source": [
    "import copy\n",
    "import math"
   ]
  },
  {
   "cell_type": "markdown",
   "id": "55c73a4b",
   "metadata": {},
   "source": [
    "<h3>Using Stiffness Matrix</h3>"
   ]
  },
  {
   "cell_type": "markdown",
   "id": "68052a87",
   "metadata": {},
   "source": [
    "<h3> node 1 left quadrant</h3>"
   ]
  },
  {
   "cell_type": "code",
   "execution_count": 44,
   "id": "95eb11b0",
   "metadata": {},
   "outputs": [],
   "source": [
    "theta1=45\n",
    "theta2=45\n",
    "theta3=90\n",
    "theta4=120\n",
    "theta5=30\n",
    "theta6=30\n",
    "Force=400 #left quadrant\n",
    "s11=math.cos(theta1)**2\n",
    "s12=math.cos(theta2)*math.sin(theta2)\n",
    "s21=math.cos(theta3)*math.sin(theta3)\n",
    "s22=math.sin(theta4)*2\n",
    "s31=math.cos(theta2)*math.sin(theta2)\n",
    "s32=math.cos(theta3)*math.sin(theta3)\n",
    "s11_32=400*np.array([s11,s12,s21,s22,s31,s32])"
   ]
  },
  {
   "cell_type": "markdown",
   "id": "17b9c415",
   "metadata": {},
   "source": [
    "<h3> node 1 right quadrant</h3>"
   ]
  },
  {
   "cell_type": "code",
   "execution_count": 55,
   "id": "031393c3",
   "metadata": {},
   "outputs": [],
   "source": [
    "theta1=120\n",
    "theta2=30\n",
    "theta3=30\n",
    "theta4=60\n",
    "theta5=30\n",
    "theta6=90\n",
    "Force=200 #right quadrant\n",
    "s11=math.cos(theta1)**2\n",
    "s12=math.cos(theta2)*math.sin(theta2)\n",
    "s21=math.cos(theta3)*math.sin(theta3)\n",
    "s22=math.sin(theta4)*2\n",
    "s31=math.cos(theta2)*math.sin(theta2)\n",
    "s32=math.cos(theta3)*math.sin(theta3)\n",
    "s32_11=200*np.array([s11,s12,s21,s22,s31,s32])"
   ]
  },
  {
   "cell_type": "code",
   "execution_count": 56,
   "id": "9e5e19fd",
   "metadata": {},
   "outputs": [],
   "source": [
    "node1=np.concatenate([[s11_32],[s32_11]])"
   ]
  },
  {
   "cell_type": "code",
   "execution_count": 57,
   "id": "91802f38",
   "metadata": {},
   "outputs": [
    {
     "data": {
      "text/plain": [
       "array([[   9.51740392,  -60.96212422,  189.08903098,  715.19733088,\n",
       "         -60.96212422,  189.08903098],\n",
       "       [ 132.57813055,  -30.48106211,  -30.48106211, -121.92424844,\n",
       "         -30.48106211,  -30.48106211]])"
      ]
     },
     "execution_count": 57,
     "metadata": {},
     "output_type": "execute_result"
    }
   ],
   "source": [
    "node1"
   ]
  },
  {
   "cell_type": "markdown",
   "id": "47acec2c",
   "metadata": {},
   "source": [
    "<h3>node 2 right quadrant</h3>"
   ]
  },
  {
   "cell_type": "code",
   "execution_count": 58,
   "id": "1057bd77",
   "metadata": {},
   "outputs": [],
   "source": [
    "theta6=120\n",
    "theta5=30\n",
    "theta4=30\n",
    "theta3=60\n",
    "theta2=30\n",
    "theta1=90\n",
    "Force=200 #right quadrant\n",
    "s11=math.cos(theta1)**2\n",
    "s12=math.cos(theta2)*math.sin(theta2)\n",
    "s21=math.cos(theta3)*math.sin(theta3)\n",
    "s22=math.sin(theta4)*2\n",
    "s31=math.cos(theta2)*math.sin(theta2)\n",
    "s32=math.cos(theta3)*math.sin(theta3)\n",
    "s32_11=200*np.array([s11,s12,s21,s22,s31,s32])"
   ]
  },
  {
   "cell_type": "markdown",
   "id": "6783a7e1",
   "metadata": {},
   "source": [
    "<h3>node 2 left quadrant</h3>"
   ]
  },
  {
   "cell_type": "code",
   "execution_count": 59,
   "id": "9f2fdc18",
   "metadata": {},
   "outputs": [],
   "source": [
    "theta6=45\n",
    "theta5=45\n",
    "theta4=90\n",
    "theta3=120\n",
    "theta2=30\n",
    "theta1=30\n",
    "Force=400 #left quadrant\n",
    "s11=math.cos(theta1)**2\n",
    "s12=math.cos(theta2)*math.sin(theta2)\n",
    "s21=math.cos(theta3)*math.sin(theta3)\n",
    "s22=math.sin(theta4)*2\n",
    "s31=math.cos(theta2)*math.sin(theta2)\n",
    "s32=math.cos(theta3)*math.sin(theta3)\n",
    "s11_32=400*np.array([s11,s12,s21,s22,s31,s32])"
   ]
  },
  {
   "cell_type": "code",
   "execution_count": 60,
   "id": "e2bf3fd8",
   "metadata": {},
   "outputs": [
    {
     "data": {
      "text/plain": [
       "array([[   9.51740392,  -60.96212422,  189.08903098,  715.19733088,\n",
       "         -60.96212422,  189.08903098],\n",
       "       [  40.15399309,  -30.48106211,   58.06111842, -395.21264964,\n",
       "         -30.48106211,   58.06111842]])"
      ]
     },
     "execution_count": 60,
     "metadata": {},
     "output_type": "execute_result"
    }
   ],
   "source": [
    "node2=np.concatenate([[s11_32],[s32_11]])\n",
    "node2"
   ]
  },
  {
   "cell_type": "markdown",
   "id": "e22daefc",
   "metadata": {},
   "source": [
    "<h4>The Rest of the nodes can be solved through same procedure</h4>"
   ]
  },
  {
   "cell_type": "markdown",
   "id": "209c7976",
   "metadata": {},
   "source": [
    "<h1> Answer 3 Solved</h3>"
   ]
  },
  {
   "cell_type": "code",
   "execution_count": 72,
   "id": "a7604615",
   "metadata": {},
   "outputs": [],
   "source": [
    "def funif(Q,n,A,R,S):\n",
    "    deltaq =1.49/n*A*R**2/3*S**1/2\n",
    "    return(deltaq)\n",
    "\n"
   ]
  },
  {
   "cell_type": "code",
   "execution_count": null,
   "id": "22bb2ebb",
   "metadata": {},
   "outputs": [],
   "source": [
    "deltaq = funif(Q,n,A,R,S)\n",
    "deltaL = fpoint(Q,n,A,R*2/3,S)\n",
    "\n",
    "deltatot = deltaq + deltaL \n",
    "print(\" The total Deflection is: \" + str(round(deltatot,2)) + \" m\")"
   ]
  }
 ],
 "metadata": {
  "kernelspec": {
   "display_name": "Python 3 (ipykernel)",
   "language": "python",
   "name": "python3"
  },
  "language_info": {
   "codemirror_mode": {
    "name": "ipython",
    "version": 3
   },
   "file_extension": ".py",
   "mimetype": "text/x-python",
   "name": "python",
   "nbconvert_exporter": "python",
   "pygments_lexer": "ipython3",
   "version": "3.8.15"
  }
 },
 "nbformat": 4,
 "nbformat_minor": 5
}
